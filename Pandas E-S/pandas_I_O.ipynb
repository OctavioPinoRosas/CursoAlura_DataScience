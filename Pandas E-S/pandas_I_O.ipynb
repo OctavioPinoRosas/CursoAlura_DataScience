{
 "cells": [
  {
   "cell_type": "markdown",
   "id": "fd29d829",
   "metadata": {},
   "source": [
    "# Aula 1 - Leyendo archivos CSV"
   ]
  },
  {
   "cell_type": "markdown",
   "id": "538089a4",
   "metadata": {},
   "source": [
    "## Importando archivo CSV"
   ]
  },
  {
   "cell_type": "code",
   "execution_count": null,
   "id": "9488d9a5",
   "metadata": {},
   "outputs": [],
   "source": []
  },
  {
   "cell_type": "code",
   "execution_count": null,
   "id": "182c3402",
   "metadata": {},
   "outputs": [],
   "source": []
  },
  {
   "cell_type": "code",
   "execution_count": null,
   "id": "c453e158",
   "metadata": {},
   "outputs": [],
   "source": []
  },
  {
   "cell_type": "code",
   "execution_count": null,
   "id": "62425132",
   "metadata": {},
   "outputs": [],
   "source": []
  }
 ],
 "metadata": {
  "kernelspec": {
   "display_name": "Python 3",
   "language": "python",
   "name": "python3"
  },
  "language_info": {
   "codemirror_mode": {
    "name": "ipython",
    "version": 3
   },
   "file_extension": ".py",
   "mimetype": "text/x-python",
   "name": "python",
   "nbconvert_exporter": "python",
   "pygments_lexer": "ipython3",
   "version": "3.13.1"
  }
 },
 "nbformat": 4,
 "nbformat_minor": 5
}
