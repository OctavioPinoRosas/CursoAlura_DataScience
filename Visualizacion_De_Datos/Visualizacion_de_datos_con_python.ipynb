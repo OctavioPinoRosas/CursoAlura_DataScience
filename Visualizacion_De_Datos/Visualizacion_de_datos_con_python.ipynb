{
 "cells": [
  {
   "cell_type": "markdown",
   "id": "db021c74",
   "metadata": {},
   "source": [
    "# Visualizacion de datos con Python: Mathplotlib y SeabornPlotly"
   ]
  },
  {
   "cell_type": "markdown",
   "id": "bd42270d",
   "metadata": {},
   "source": []
  }
 ],
 "metadata": {
  "language_info": {
   "name": "python"
  }
 },
 "nbformat": 4,
 "nbformat_minor": 5
}
