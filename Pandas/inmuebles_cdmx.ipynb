{
  "cells": [
    {
      "cell_type": "code",
      "execution_count": null,
      "metadata": {
        "id": "OEHRMc8kMFFI"
      },
      "outputs": [],
      "source": []
    }
  ],
  "metadata": {
    "colab": {
      "authorship_tag": "ABX9TyM6K3vwrOsFDe4wL+/CeOwT",
      "include_colab_link": true,
      "mount_file_id": "1kccHZpdt5nrXjtJisSvw01FNWeasbt_Y",
      "provenance": []
    },
    "kernelspec": {
      "display_name": "Python 3",
      "name": "python3"
    },
    "language_info": {
      "name": "python"
    }
  },
  "nbformat": 4,
  "nbformat_minor": 0
}
